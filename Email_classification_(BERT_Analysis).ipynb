{
  "nbformat": 4,
  "nbformat_minor": 0,
  "metadata": {
    "colab": {
      "name": "Email_classification (BERT Analysis).ipynb",
      "provenance": [],
      "machine_shape": "hm",
      "authorship_tag": "ABX9TyN6yz23nQ1Ymey4t/3gMvCk",
      "include_colab_link": true
    },
    "kernelspec": {
      "name": "python3",
      "display_name": "Python 3"
    },
    "language_info": {
      "name": "python"
    },
    "accelerator": "GPU"
  },
  "cells": [
    {
      "cell_type": "markdown",
      "metadata": {
        "id": "view-in-github",
        "colab_type": "text"
      },
      "source": [
        "<a href=\"https://colab.research.google.com/github/Myavuzars/NLP-with-Tensorflow/blob/main/Email_classification_(BERT_Analysis).ipynb\" target=\"_parent\"><img src=\"https://colab.research.google.com/assets/colab-badge.svg\" alt=\"Open In Colab\"/></a>"
      ]
    },
    {
      "cell_type": "code",
      "metadata": {
        "id": "kUrzRke92MPJ"
      },
      "source": [
        "import os\n",
        "import numpy as np\n",
        "import pandas as pd\n",
        "import tensorflow as tf\n",
        "import matplotlib.pyplot as plt\n",
        "import seaborn as sn\n",
        "from tensorflow.keras import layers\n",
        "from tensorflow.keras import Model\n",
        "from sklearn.metrics import confusion_matrix, classification_report "
      ],
      "execution_count": 1,
      "outputs": []
    },
    {
      "cell_type": "code",
      "source": [
        "#!pip install tensorflow-text"
      ],
      "metadata": {
        "id": "Hn9iLDqL38GE"
      },
      "execution_count": 3,
      "outputs": []
    },
    {
      "cell_type": "code",
      "source": [
        "import tensorflow_hub as hub\n",
        "import tensorflow_text as text\n"
      ],
      "metadata": {
        "id": "-JyOsuUxnvCb"
      },
      "execution_count": 4,
      "outputs": []
    },
    {
      "cell_type": "code",
      "metadata": {
        "colab": {
          "base_uri": "https://localhost:8080/"
        },
        "id": "jTDqg65I2R3v",
        "outputId": "126f1022-e324-4f5c-f0de-070529d78f7c"
      },
      "source": [
        "from google.colab import drive\n",
        "drive.mount('/content/drive')"
      ],
      "execution_count": 5,
      "outputs": [
        {
          "output_type": "stream",
          "name": "stdout",
          "text": [
            "Mounted at /content/drive\n"
          ]
        }
      ]
    },
    {
      "cell_type": "code",
      "metadata": {
        "colab": {
          "base_uri": "https://localhost:8080/"
        },
        "id": "oa1GrmoS2aQn",
        "outputId": "a589fa4a-dcd7-4d27-911f-ee38e98c8e98"
      },
      "source": [
        "df=pd.read_csv(\"/content/drive/My Drive/Colab Notebooks/Email Classification/emails.csv\")\n",
        "print(df.shape)\n",
        "df=df.drop(df.columns[2:110], axis=1)\n"
      ],
      "execution_count": 6,
      "outputs": [
        {
          "output_type": "stream",
          "name": "stdout",
          "text": [
            "(5730, 110)\n"
          ]
        }
      ]
    },
    {
      "cell_type": "code",
      "source": [
        "df.head(3)"
      ],
      "metadata": {
        "colab": {
          "base_uri": "https://localhost:8080/",
          "height": 143
        },
        "id": "lhG5X8-v0EVO",
        "outputId": "a03cc3a9-548c-41ff-98a0-6a81373ac5a5"
      },
      "execution_count": 7,
      "outputs": [
        {
          "output_type": "execute_result",
          "data": {
            "text/html": [
              "<div>\n",
              "<style scoped>\n",
              "    .dataframe tbody tr th:only-of-type {\n",
              "        vertical-align: middle;\n",
              "    }\n",
              "\n",
              "    .dataframe tbody tr th {\n",
              "        vertical-align: top;\n",
              "    }\n",
              "\n",
              "    .dataframe thead th {\n",
              "        text-align: right;\n",
              "    }\n",
              "</style>\n",
              "<table border=\"1\" class=\"dataframe\">\n",
              "  <thead>\n",
              "    <tr style=\"text-align: right;\">\n",
              "      <th></th>\n",
              "      <th>text</th>\n",
              "      <th>spam</th>\n",
              "    </tr>\n",
              "  </thead>\n",
              "  <tbody>\n",
              "    <tr>\n",
              "      <th>0</th>\n",
              "      <td>Subject: naturally irresistible your corporate...</td>\n",
              "      <td>1</td>\n",
              "    </tr>\n",
              "    <tr>\n",
              "      <th>1</th>\n",
              "      <td>Subject: the stock trading gunslinger  fanny i...</td>\n",
              "      <td>1</td>\n",
              "    </tr>\n",
              "    <tr>\n",
              "      <th>2</th>\n",
              "      <td>Subject: unbelievable new homes made easy  im ...</td>\n",
              "      <td>1</td>\n",
              "    </tr>\n",
              "  </tbody>\n",
              "</table>\n",
              "</div>"
            ],
            "text/plain": [
              "                                                text spam\n",
              "0  Subject: naturally irresistible your corporate...    1\n",
              "1  Subject: the stock trading gunslinger  fanny i...    1\n",
              "2  Subject: unbelievable new homes made easy  im ...    1"
            ]
          },
          "metadata": {},
          "execution_count": 7
        }
      ]
    },
    {
      "cell_type": "code",
      "source": [
        "#Dealing with missing values\n",
        "is_NaN = df.isnull()\n",
        "row_has_NaN = is_NaN.any(axis=1)\n",
        "rows_with_NaN = df[row_has_NaN]\n",
        "print(rows_with_NaN)"
      ],
      "metadata": {
        "colab": {
          "base_uri": "https://localhost:8080/"
        },
        "id": "QnmG_0Oj3N5u",
        "outputId": "8418f25e-810a-4c74-8049-fa420b36bb2f"
      },
      "execution_count": 8,
      "outputs": [
        {
          "output_type": "stream",
          "name": "stdout",
          "text": [
            "                                                   text spam\n",
            "1380  Subject: from the enron india newsdesk - april...  NaN\n",
            "2651  Subject: from the enron india newsdesk - april...  NaN\n"
          ]
        }
      ]
    },
    {
      "cell_type": "code",
      "source": [
        "df = df.reset_index().dropna().set_index('index')"
      ],
      "metadata": {
        "id": "g7eUQxTq3OCf"
      },
      "execution_count": 9,
      "outputs": []
    },
    {
      "cell_type": "code",
      "metadata": {
        "colab": {
          "base_uri": "https://localhost:8080/",
          "height": 238
        },
        "id": "Q00N8hQ72aS8",
        "outputId": "8626c1c4-8792-4630-f5a2-79c9bab50b1e"
      },
      "source": [
        "df.groupby('spam').describe()"
      ],
      "execution_count": 10,
      "outputs": [
        {
          "output_type": "execute_result",
          "data": {
            "text/html": [
              "<div>\n",
              "<style scoped>\n",
              "    .dataframe tbody tr th:only-of-type {\n",
              "        vertical-align: middle;\n",
              "    }\n",
              "\n",
              "    .dataframe tbody tr th {\n",
              "        vertical-align: top;\n",
              "    }\n",
              "\n",
              "    .dataframe thead tr th {\n",
              "        text-align: left;\n",
              "    }\n",
              "\n",
              "    .dataframe thead tr:last-of-type th {\n",
              "        text-align: right;\n",
              "    }\n",
              "</style>\n",
              "<table border=\"1\" class=\"dataframe\">\n",
              "  <thead>\n",
              "    <tr>\n",
              "      <th></th>\n",
              "      <th colspan=\"4\" halign=\"left\">text</th>\n",
              "    </tr>\n",
              "    <tr>\n",
              "      <th></th>\n",
              "      <th>count</th>\n",
              "      <th>unique</th>\n",
              "      <th>top</th>\n",
              "      <th>freq</th>\n",
              "    </tr>\n",
              "    <tr>\n",
              "      <th>spam</th>\n",
              "      <th></th>\n",
              "      <th></th>\n",
              "      <th></th>\n",
              "      <th></th>\n",
              "    </tr>\n",
              "  </thead>\n",
              "  <tbody>\n",
              "    <tr>\n",
              "      <th>its termination would not  have such a phenomenal impact on the power situation .  however</th>\n",
              "      <td>1</td>\n",
              "      <td>1</td>\n",
              "      <td>e dpc contributed only 0 . 7 per  cent of the ...</td>\n",
              "      <td>1</td>\n",
              "    </tr>\n",
              "    <tr>\n",
              "      <th>mr suresh prabhu</th>\n",
              "      <td>1</td>\n",
              "      <td>1</td>\n",
              "      <td>lf against undeserved claims in the event of e...</td>\n",
              "      <td>1</td>\n",
              "    </tr>\n",
              "    <tr>\n",
              "      <th>0</th>\n",
              "      <td>4358</td>\n",
              "      <td>4325</td>\n",
              "      <td>Subject: re : your mail  zhendong ,  dr . kami...</td>\n",
              "      <td>2</td>\n",
              "    </tr>\n",
              "    <tr>\n",
              "      <th>1</th>\n",
              "      <td>1368</td>\n",
              "      <td>1368</td>\n",
              "      <td>Subject: new stock : shooting stars stock repo...</td>\n",
              "      <td>1</td>\n",
              "    </tr>\n",
              "  </tbody>\n",
              "</table>\n",
              "</div>"
            ],
            "text/plain": [
              "                                                    text  ...     \n",
              "                                                   count  ... freq\n",
              "spam                                                      ...     \n",
              " its termination would not  have such a phenome...     1  ...    1\n",
              " mr suresh prabhu                                      1  ...    1\n",
              "0                                                   4358  ...    2\n",
              "1                                                   1368  ...    1\n",
              "\n",
              "[4 rows x 4 columns]"
            ]
          },
          "metadata": {},
          "execution_count": 10
        }
      ]
    },
    {
      "cell_type": "code",
      "source": [
        "newdf= df.loc[df['spam'].str.contains('0|1',na=False)] #OR\n",
        "newdf.head(3)"
      ],
      "metadata": {
        "colab": {
          "base_uri": "https://localhost:8080/",
          "height": 175
        },
        "id": "SEOZPwVAz10b",
        "outputId": "e775be16-0d63-418d-e1fd-154ce92ae3ac"
      },
      "execution_count": 11,
      "outputs": [
        {
          "output_type": "execute_result",
          "data": {
            "text/html": [
              "<div>\n",
              "<style scoped>\n",
              "    .dataframe tbody tr th:only-of-type {\n",
              "        vertical-align: middle;\n",
              "    }\n",
              "\n",
              "    .dataframe tbody tr th {\n",
              "        vertical-align: top;\n",
              "    }\n",
              "\n",
              "    .dataframe thead th {\n",
              "        text-align: right;\n",
              "    }\n",
              "</style>\n",
              "<table border=\"1\" class=\"dataframe\">\n",
              "  <thead>\n",
              "    <tr style=\"text-align: right;\">\n",
              "      <th></th>\n",
              "      <th>text</th>\n",
              "      <th>spam</th>\n",
              "    </tr>\n",
              "    <tr>\n",
              "      <th>index</th>\n",
              "      <th></th>\n",
              "      <th></th>\n",
              "    </tr>\n",
              "  </thead>\n",
              "  <tbody>\n",
              "    <tr>\n",
              "      <th>0</th>\n",
              "      <td>Subject: naturally irresistible your corporate...</td>\n",
              "      <td>1</td>\n",
              "    </tr>\n",
              "    <tr>\n",
              "      <th>1</th>\n",
              "      <td>Subject: the stock trading gunslinger  fanny i...</td>\n",
              "      <td>1</td>\n",
              "    </tr>\n",
              "    <tr>\n",
              "      <th>2</th>\n",
              "      <td>Subject: unbelievable new homes made easy  im ...</td>\n",
              "      <td>1</td>\n",
              "    </tr>\n",
              "  </tbody>\n",
              "</table>\n",
              "</div>"
            ],
            "text/plain": [
              "                                                    text spam\n",
              "index                                                        \n",
              "0      Subject: naturally irresistible your corporate...    1\n",
              "1      Subject: the stock trading gunslinger  fanny i...    1\n",
              "2      Subject: unbelievable new homes made easy  im ...    1"
            ]
          },
          "metadata": {},
          "execution_count": 11
        }
      ]
    },
    {
      "cell_type": "code",
      "source": [
        "newdf.groupby('spam').describe()"
      ],
      "metadata": {
        "colab": {
          "base_uri": "https://localhost:8080/",
          "height": 175
        },
        "id": "ADVRv_PO3C-C",
        "outputId": "8d597f8b-5595-4948-ba6d-f16bf280586b"
      },
      "execution_count": 12,
      "outputs": [
        {
          "output_type": "execute_result",
          "data": {
            "text/html": [
              "<div>\n",
              "<style scoped>\n",
              "    .dataframe tbody tr th:only-of-type {\n",
              "        vertical-align: middle;\n",
              "    }\n",
              "\n",
              "    .dataframe tbody tr th {\n",
              "        vertical-align: top;\n",
              "    }\n",
              "\n",
              "    .dataframe thead tr th {\n",
              "        text-align: left;\n",
              "    }\n",
              "\n",
              "    .dataframe thead tr:last-of-type th {\n",
              "        text-align: right;\n",
              "    }\n",
              "</style>\n",
              "<table border=\"1\" class=\"dataframe\">\n",
              "  <thead>\n",
              "    <tr>\n",
              "      <th></th>\n",
              "      <th colspan=\"4\" halign=\"left\">text</th>\n",
              "    </tr>\n",
              "    <tr>\n",
              "      <th></th>\n",
              "      <th>count</th>\n",
              "      <th>unique</th>\n",
              "      <th>top</th>\n",
              "      <th>freq</th>\n",
              "    </tr>\n",
              "    <tr>\n",
              "      <th>spam</th>\n",
              "      <th></th>\n",
              "      <th></th>\n",
              "      <th></th>\n",
              "      <th></th>\n",
              "    </tr>\n",
              "  </thead>\n",
              "  <tbody>\n",
              "    <tr>\n",
              "      <th>0</th>\n",
              "      <td>4358</td>\n",
              "      <td>4325</td>\n",
              "      <td>Subject: re : your mail  zhendong ,  dr . kami...</td>\n",
              "      <td>2</td>\n",
              "    </tr>\n",
              "    <tr>\n",
              "      <th>1</th>\n",
              "      <td>1368</td>\n",
              "      <td>1368</td>\n",
              "      <td>Subject: new stock : shooting stars stock repo...</td>\n",
              "      <td>1</td>\n",
              "    </tr>\n",
              "  </tbody>\n",
              "</table>\n",
              "</div>"
            ],
            "text/plain": [
              "      text                                                               \n",
              "     count unique                                                top freq\n",
              "spam                                                                     \n",
              "0     4358   4325  Subject: re : your mail  zhendong ,  dr . kami...    2\n",
              "1     1368   1368  Subject: new stock : shooting stars stock repo...    1"
            ]
          },
          "metadata": {},
          "execution_count": 12
        }
      ]
    },
    {
      "cell_type": "code",
      "metadata": {
        "colab": {
          "base_uri": "https://localhost:8080/"
        },
        "id": "KDeo2PTj2aVC",
        "outputId": "516ea622-eb13-44c4-ba42-73c37cd4944f"
      },
      "source": [
        "newdf['spam'].value_counts()"
      ],
      "execution_count": 13,
      "outputs": [
        {
          "output_type": "execute_result",
          "data": {
            "text/plain": [
              "0    4358\n",
              "1    1368\n",
              "Name: spam, dtype: int64"
            ]
          },
          "metadata": {},
          "execution_count": 13
        }
      ]
    },
    {
      "cell_type": "code",
      "source": [
        "newdf[\"spam\"] = newdf[\"spam\"].astype(str).astype(int)"
      ],
      "metadata": {
        "colab": {
          "base_uri": "https://localhost:8080/"
        },
        "id": "ByGEF52mIIR6",
        "outputId": "89e02011-b528-4012-f7d7-543811926a06"
      },
      "execution_count": 14,
      "outputs": [
        {
          "output_type": "stream",
          "name": "stderr",
          "text": [
            "/usr/local/lib/python3.7/dist-packages/ipykernel_launcher.py:1: SettingWithCopyWarning: \n",
            "A value is trying to be set on a copy of a slice from a DataFrame.\n",
            "Try using .loc[row_indexer,col_indexer] = value instead\n",
            "\n",
            "See the caveats in the documentation: https://pandas.pydata.org/pandas-docs/stable/user_guide/indexing.html#returning-a-view-versus-a-copy\n",
            "  \"\"\"Entry point for launching an IPython kernel.\n"
          ]
        }
      ]
    },
    {
      "cell_type": "code",
      "source": [
        "from sklearn.model_selection import  train_test_split\n",
        "\n",
        "X_train, X_test, y_train, y_test =train_test_split(newdf['text'], newdf['spam'], stratify=newdf['spam'])"
      ],
      "metadata": {
        "id": "hFmJvT-j9stu"
      },
      "execution_count": 15,
      "outputs": []
    },
    {
      "cell_type": "code",
      "source": [
        "X_train.head(4)"
      ],
      "metadata": {
        "colab": {
          "base_uri": "https://localhost:8080/"
        },
        "id": "lo5KKbPQ9swN",
        "outputId": "6e85d2bd-0115-4fb8-a126-73f772372456"
      },
      "execution_count": 16,
      "outputs": [
        {
          "output_type": "execute_result",
          "data": {
            "text/plain": [
              "index\n",
              "5410    Subject: pre - ranking  below is your spreadsh...\n",
              "2574    Subject: research and development charges to g...\n",
              "3473    Subject: credit applicatiions in grms  this no...\n",
              "4063    Subject: last minute things  tff participants ...\n",
              "Name: text, dtype: object"
            ]
          },
          "metadata": {},
          "execution_count": 16
        }
      ]
    },
    {
      "cell_type": "code",
      "metadata": {
        "id": "nedGNfom2aWr"
      },
      "source": [
        "preprocess_url = \"https://tfhub.dev/tensorflow/bert_en_uncased_preprocess/3\"\n",
        "encoder_url =\"https://tfhub.dev/tensorflow/bert_en_uncased_L-12_H-768_A-12/4\""
      ],
      "execution_count": 17,
      "outputs": []
    },
    {
      "cell_type": "code",
      "source": [
        "bert_preprocess =hub.KerasLayer(preprocess_url)\n",
        "bert_encoder =hub.KerasLayer(encoder_url)"
      ],
      "metadata": {
        "id": "VlIClFbv_0LB"
      },
      "execution_count": 18,
      "outputs": []
    },
    {
      "cell_type": "code",
      "source": [
        "#Bert layers\n",
        "text_input =tf.keras.layers.Input(shape=(), dtype= tf.string, name='text')\n",
        "preprocessed_text=bert_preprocess(text_input)\n",
        "outputs =bert_encoder(preprocessed_text)"
      ],
      "metadata": {
        "id": "Ywt0cTJuuJFw"
      },
      "execution_count": 19,
      "outputs": []
    },
    {
      "cell_type": "code",
      "source": [
        "#NN Layers\n",
        "layer_dropout = tf.keras.layers.Dropout(0.1, name='dropout') (outputs['pooled_output'])\n",
        "\n",
        "layer_dense = tf.keras.layers.Dense(1, activation='sigmoid', name='output')(layer_dropout)\n",
        "\n",
        "model =tf.keras.Model(inputs =[text_input], outputs=[layer_dense])\n",
        "\n"
      ],
      "metadata": {
        "id": "_6KBFNvOrrxO"
      },
      "execution_count": 20,
      "outputs": []
    },
    {
      "cell_type": "code",
      "source": [
        "model.summary()"
      ],
      "metadata": {
        "colab": {
          "base_uri": "https://localhost:8080/"
        },
        "id": "fX0t-xQ3FmuB",
        "outputId": "42c078b1-23a0-4460-8439-278868dc689e"
      },
      "execution_count": 21,
      "outputs": [
        {
          "output_type": "stream",
          "name": "stdout",
          "text": [
            "Model: \"model\"\n",
            "__________________________________________________________________________________________________\n",
            " Layer (type)                   Output Shape         Param #     Connected to                     \n",
            "==================================================================================================\n",
            " text (InputLayer)              [(None,)]            0           []                               \n",
            "                                                                                                  \n",
            " keras_layer (KerasLayer)       {'input_mask': (Non  0           ['text[0][0]']                   \n",
            "                                e, 128),                                                          \n",
            "                                 'input_word_ids':                                                \n",
            "                                (None, 128),                                                      \n",
            "                                 'input_type_ids':                                                \n",
            "                                (None, 128)}                                                      \n",
            "                                                                                                  \n",
            " keras_layer_1 (KerasLayer)     {'encoder_outputs':  109482241   ['keras_layer[0][0]',            \n",
            "                                 [(None, 128, 768),               'keras_layer[0][1]',            \n",
            "                                 (None, 128, 768),                'keras_layer[0][2]']            \n",
            "                                 (None, 128, 768),                                                \n",
            "                                 (None, 128, 768),                                                \n",
            "                                 (None, 128, 768),                                                \n",
            "                                 (None, 128, 768),                                                \n",
            "                                 (None, 128, 768),                                                \n",
            "                                 (None, 128, 768),                                                \n",
            "                                 (None, 128, 768),                                                \n",
            "                                 (None, 128, 768),                                                \n",
            "                                 (None, 128, 768),                                                \n",
            "                                 (None, 128, 768)],                                               \n",
            "                                 'default': (None,                                                \n",
            "                                768),                                                             \n",
            "                                 'sequence_output':                                               \n",
            "                                 (None, 128, 768),                                                \n",
            "                                 'pooled_output': (                                               \n",
            "                                None, 768)}                                                       \n",
            "                                                                                                  \n",
            " dropout (Dropout)              (None, 768)          0           ['keras_layer_1[0][13]']         \n",
            "                                                                                                  \n",
            " output (Dense)                 (None, 1)            769         ['dropout[0][0]']                \n",
            "                                                                                                  \n",
            "==================================================================================================\n",
            "Total params: 109,483,010\n",
            "Trainable params: 769\n",
            "Non-trainable params: 109,482,241\n",
            "__________________________________________________________________________________________________\n"
          ]
        }
      ]
    },
    {
      "cell_type": "code",
      "source": [
        "METRICS =[tf.keras.metrics.BinaryAccuracy(name='accuracy'),\n",
        "          tf.keras.metrics.Precision(name='precision'),\n",
        "          tf.keras.metrics.Recall(name='recall')]"
      ],
      "metadata": {
        "id": "chWxnvQaFmxY"
      },
      "execution_count": 22,
      "outputs": []
    },
    {
      "cell_type": "code",
      "source": [
        "model.compile(optimizer='adam',\n",
        "              loss='binary_crossentropy',\n",
        "              metrics=METRICS)"
      ],
      "metadata": {
        "id": "mV2PNvz9GDFD"
      },
      "execution_count": 23,
      "outputs": []
    },
    {
      "cell_type": "code",
      "source": [
        "model.fit(X_train,y_train, epochs=10)"
      ],
      "metadata": {
        "colab": {
          "base_uri": "https://localhost:8080/"
        },
        "id": "uSKd0Xz8GDH4",
        "outputId": "160281c4-e075-4d09-aa1d-e45d6b474545"
      },
      "execution_count": 24,
      "outputs": [
        {
          "output_type": "stream",
          "name": "stdout",
          "text": [
            "Epoch 1/10\n",
            "135/135 [==============================] - 43s 227ms/step - loss: 0.5212 - accuracy: 0.7485 - precision: 0.3247 - recall: 0.0487\n",
            "Epoch 2/10\n",
            "135/135 [==============================] - 31s 227ms/step - loss: 0.4351 - accuracy: 0.7976 - precision: 0.8230 - recall: 0.1949\n",
            "Epoch 3/10\n",
            "135/135 [==============================] - 31s 228ms/step - loss: 0.3892 - accuracy: 0.8298 - precision: 0.8391 - recall: 0.3558\n",
            "Epoch 4/10\n",
            "135/135 [==============================] - 31s 227ms/step - loss: 0.3600 - accuracy: 0.8461 - precision: 0.8672 - recall: 0.4201\n",
            "Epoch 5/10\n",
            "135/135 [==============================] - 31s 227ms/step - loss: 0.3347 - accuracy: 0.8652 - precision: 0.8444 - recall: 0.5341\n",
            "Epoch 6/10\n",
            "135/135 [==============================] - 31s 228ms/step - loss: 0.3133 - accuracy: 0.8668 - precision: 0.8482 - recall: 0.5390\n",
            "Epoch 7/10\n",
            "135/135 [==============================] - 31s 227ms/step - loss: 0.2951 - accuracy: 0.8766 - precision: 0.8658 - recall: 0.5721\n",
            "Epoch 8/10\n",
            "135/135 [==============================] - 31s 226ms/step - loss: 0.2777 - accuracy: 0.8884 - precision: 0.8847 - recall: 0.6131\n",
            "Epoch 9/10\n",
            "135/135 [==============================] - 31s 227ms/step - loss: 0.2733 - accuracy: 0.8896 - precision: 0.8641 - recall: 0.6384\n",
            "Epoch 10/10\n",
            "135/135 [==============================] - 31s 229ms/step - loss: 0.2613 - accuracy: 0.8959 - precision: 0.8774 - recall: 0.6559\n"
          ]
        },
        {
          "output_type": "execute_result",
          "data": {
            "text/plain": [
              "<keras.callbacks.History at 0x7f56063c5310>"
            ]
          },
          "metadata": {},
          "execution_count": 24
        }
      ]
    },
    {
      "cell_type": "code",
      "source": [
        "model.evaluate(X_test, y_test)"
      ],
      "metadata": {
        "id": "j1HKDwSiImz7",
        "colab": {
          "base_uri": "https://localhost:8080/"
        },
        "outputId": "25e6ce3c-4c4a-4c1d-ae7e-7b68394ea7b0"
      },
      "execution_count": 25,
      "outputs": [
        {
          "output_type": "stream",
          "name": "stdout",
          "text": [
            "45/45 [==============================] - 11s 228ms/step - loss: 0.2722 - accuracy: 0.8973 - precision: 0.7893 - recall: 0.7778\n"
          ]
        },
        {
          "output_type": "execute_result",
          "data": {
            "text/plain": [
              "[0.27222320437431335,\n",
              " 0.8973463773727417,\n",
              " 0.7893174886703491,\n",
              " 0.7777777910232544]"
            ]
          },
          "metadata": {},
          "execution_count": 25
        }
      ]
    },
    {
      "cell_type": "code",
      "source": [
        "y_predicted = model.predict(X_test)\n",
        "y_preedicted = y_predicted.flatten()"
      ],
      "metadata": {
        "id": "4DCFVCSjWdZh"
      },
      "execution_count": 26,
      "outputs": []
    },
    {
      "cell_type": "code",
      "source": [
        "y_predicted = np.where((y_predicted) > 0.5, 1 , 0)\n",
        "y_predicted"
      ],
      "metadata": {
        "colab": {
          "base_uri": "https://localhost:8080/"
        },
        "id": "Wsqa-hEZWdcD",
        "outputId": "3b0d2ae6-19ff-481e-9b61-f3b6e0489eea"
      },
      "execution_count": 27,
      "outputs": [
        {
          "output_type": "execute_result",
          "data": {
            "text/plain": [
              "array([[1],\n",
              "       [1],\n",
              "       [1],\n",
              "       ...,\n",
              "       [0],\n",
              "       [0],\n",
              "       [1]])"
            ]
          },
          "metadata": {},
          "execution_count": 27
        }
      ]
    },
    {
      "cell_type": "code",
      "source": [
        "#Confusion Matrix\n",
        "cm = confusion_matrix(y_test, y_predicted)\n",
        "cm"
      ],
      "metadata": {
        "colab": {
          "base_uri": "https://localhost:8080/"
        },
        "id": "4eHuPfwJWdeD",
        "outputId": "6cbce433-6911-47d2-cd25-7a0cf948deeb"
      },
      "execution_count": 28,
      "outputs": [
        {
          "output_type": "execute_result",
          "data": {
            "text/plain": [
              "array([[1019,   71],\n",
              "       [  76,  266]])"
            ]
          },
          "metadata": {},
          "execution_count": 28
        }
      ]
    },
    {
      "cell_type": "code",
      "source": [
        "sn.heatmap(cm, annot=True, fmt='d')\n",
        "plt.xlabel('predicted')\n",
        "plt.ylabel('Truth')\n"
      ],
      "metadata": {
        "colab": {
          "base_uri": "https://localhost:8080/",
          "height": 296
        },
        "id": "8bUaweREWdia",
        "outputId": "93bc985a-a539-482c-89f5-43475329b606"
      },
      "execution_count": 29,
      "outputs": [
        {
          "output_type": "execute_result",
          "data": {
            "text/plain": [
              "Text(33.0, 0.5, 'Truth')"
            ]
          },
          "metadata": {},
          "execution_count": 29
        },
        {
          "output_type": "display_data",
          "data": {
            "image/png": "[encoded data removed]",
            "text/plain": [
              "<Figure size 432x288 with 2 Axes>"
            ]
          },
          "metadata": {
            "needs_background": "light"
          }
        }
      ]
    },
    {
      "cell_type": "code",
      "source": [
        "print(classification_report(y_test, y_predicted))"
      ],
      "metadata": {
        "colab": {
          "base_uri": "https://localhost:8080/"
        },
        "id": "3zS2eL9bWdlL",
        "outputId": "91246e45-2e1c-44e2-cd24-842bc5e9aafb"
      },
      "execution_count": 30,
      "outputs": [
        {
          "output_type": "stream",
          "name": "stdout",
          "text": [
            "              precision    recall  f1-score   support\n",
            "\n",
            "           0       0.93      0.93      0.93      1090\n",
            "           1       0.79      0.78      0.78       342\n",
            "\n",
            "    accuracy                           0.90      1432\n",
            "   macro avg       0.86      0.86      0.86      1432\n",
            "weighted avg       0.90      0.90      0.90      1432\n",
            "\n"
          ]
        }
      ]
    },
    {
      "cell_type": "code",
      "source": [
        "#Cheking an email from my spam folders \n",
        "mail1 = ['Having wild-caught seafood delivered to you allows you to Save Time. Your seafood will arrive in frozen, ready-to-go sealed portions. Plus you’ll be given access to free recipes online.Eat Healthier.Wild-caught seafood is natural and some of the most nutritionally dense food out there, never having been farmed or genetically modified.Taste the quality.']\n",
        "mail2=['Trainers,Success! A part of the mysterious door located at the historical cave site has been unlocked! The rumbling caused by the movement of the door’s locking mechanism disturbed the Pokémon living within the cave—and with them appeared Druddigon, a Pokémon never before seen in Pokémon GO! Druddigon is a Dragon-type Pokémon that dwells within the Unova region’s Dragonspiral Tower.']\n"
      ],
      "metadata": {
        "id": "Zcv8EUeyY5tK"
      },
      "execution_count": 31,
      "outputs": []
    },
    {
      "cell_type": "code",
      "source": [
        "model.predict(mail1)"
      ],
      "metadata": {
        "colab": {
          "base_uri": "https://localhost:8080/"
        },
        "id": "YB4aMVnubcYr",
        "outputId": "92164634-e709-492a-a2f4-c16a1f04efaa"
      },
      "execution_count": 32,
      "outputs": [
        {
          "output_type": "execute_result",
          "data": {
            "text/plain": [
              "array([[0.9182503]], dtype=float32)"
            ]
          },
          "metadata": {},
          "execution_count": 32
        }
      ]
    },
    {
      "cell_type": "code",
      "source": [
        "model.predict(mail2)"
      ],
      "metadata": {
        "colab": {
          "base_uri": "https://localhost:8080/"
        },
        "id": "gLLhlO1wY5vp",
        "outputId": "cf5ec9ed-b5f7-484f-8865-0592543d61bc"
      },
      "execution_count": 33,
      "outputs": [
        {
          "output_type": "execute_result",
          "data": {
            "text/plain": [
              "array([[0.9375432]], dtype=float32)"
            ]
          },
          "metadata": {},
          "execution_count": 33
        }
      ]
    },
    {
      "cell_type": "code",
      "source": [
        "#Cheking an email from inbox folder\n",
        "mail3=['Are you still interested in lessons for your daughter? I now have a Beginner class at 4pm on Tuesdays. Tomorrow, Nov 29, there is a \"Basic Intro to Archery\" class at the 4pm time.Another \"Intro\" class is scheduled at 6:45-8pm on Thursday Dec 2. Hope she can be at one of them. She needs to attend one prior to her first group lesson. Cost is $18, cash or check.Please let me know. ']"
      ],
      "metadata": {
        "id": "TKPg97B0bdqC"
      },
      "execution_count": 34,
      "outputs": []
    },
    {
      "cell_type": "code",
      "source": [
        "model.predict(mail3)"
      ],
      "metadata": {
        "colab": {
          "base_uri": "https://localhost:8080/"
        },
        "id": "QE2dC3SkY5xq",
        "outputId": "9f5fc3e6-b7fe-4e0e-8add-f3a3960789ed"
      },
      "execution_count": 35,
      "outputs": [
        {
          "output_type": "execute_result",
          "data": {
            "text/plain": [
              "array([[0.22957832]], dtype=float32)"
            ]
          },
          "metadata": {},
          "execution_count": 35
        }
      ]
    },
    {
      "cell_type": "code",
      "source": [
        "#Looks like our model working well."
      ],
      "metadata": {
        "id": "tZdCmd9mfkE0"
      },
      "execution_count": null,
      "outputs": []
    }
  ]
}
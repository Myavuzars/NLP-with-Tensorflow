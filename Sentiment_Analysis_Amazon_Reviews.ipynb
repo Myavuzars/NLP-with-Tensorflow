{
  "nbformat": 4,
  "nbformat_minor": 0,
  "metadata": {
    "colab": {
      "name": "Sentiment_Analysis_Amazon Reviews.ipynb",
      "provenance": [],
      "authorship_tag": "ABX9TyMUBh7ZyN0OzoD9jJp3/OSj",
      "include_colab_link": true
    },
    "kernelspec": {
      "name": "python3",
      "display_name": "Python 3"
    },
    "language_info": {
      "name": "python"
    }
  },
  "cells": [
    {
      "cell_type": "markdown",
      "metadata": {
        "id": "view-in-github",
        "colab_type": "text"
      },
      "source": [
        "<a href=\"https://colab.research.google.com/github/Myavuzars/NLP-with-Tensorflow/blob/main/Sentiment_Analysis_Amazon_Reviews.ipynb\" target=\"_parent\"><img src=\"https://colab.research.google.com/assets/colab-badge.svg\" alt=\"Open In Colab\"/></a>"
      ]
    },
    {
      "cell_type": "code",
      "metadata": {
        "id": "FwGCr3iTSuFN"
      },
      "source": [
        "import tensorflow as tf\n",
        "from tensorflow.keras.preprocessing.text import Tokenizer\n",
        "from tensorflow.keras.preprocessing.sequence import pad_sequences\n",
        "\n",
        "import numpy as np\n",
        "import pandas as pd"
      ],
      "execution_count": 1,
      "outputs": []
    },
    {
      "cell_type": "code",
      "metadata": {
        "colab": {
          "base_uri": "https://localhost:8080/"
        },
        "id": "YMXBnBlUXp1e",
        "outputId": "7f8724bf-aad4-4c1a-abd6-ab32e3a37a1d"
      },
      "source": [
        "!wget --no-check-certificate \\\n",
        "    -O /tmp/sentiment.csv https://drive.google.com/uc?id=13ySLC_ue6Umt9RJYSeM2t-V0kCv-4C-P"
      ],
      "execution_count": 2,
      "outputs": [
        {
          "output_type": "stream",
          "text": [
            "--2021-03-27 17:07:26--  https://drive.google.com/uc?id=13ySLC_ue6Umt9RJYSeM2t-V0kCv-4C-P\n",
            "Resolving drive.google.com (drive.google.com)... 216.58.192.110, 2607:f8b0:4026:803::200e\n",
            "Connecting to drive.google.com (drive.google.com)|216.58.192.110|:443... connected.\n",
            "HTTP request sent, awaiting response... 302 Moved Temporarily\n",
            "Location: https://doc-08-ak-docs.googleusercontent.com/docs/securesc/ha0ro937gcuc7l7deffksulhg5h7mbp1/vqv3okul0tid083qk6gd1k2jfcmq8qib/1616864775000/11118900490791463723/*/13ySLC_ue6Umt9RJYSeM2t-V0kCv-4C-P [following]\n",
            "Warning: wildcards not supported in HTTP.\n",
            "--2021-03-27 17:07:26--  https://doc-08-ak-docs.googleusercontent.com/docs/securesc/ha0ro937gcuc7l7deffksulhg5h7mbp1/vqv3okul0tid083qk6gd1k2jfcmq8qib/1616864775000/11118900490791463723/*/13ySLC_ue6Umt9RJYSeM2t-V0kCv-4C-P\n",
            "Resolving doc-08-ak-docs.googleusercontent.com (doc-08-ak-docs.googleusercontent.com)... 74.125.137.132, 2607:f8b0:4023:c03::84\n",
            "Connecting to doc-08-ak-docs.googleusercontent.com (doc-08-ak-docs.googleusercontent.com)|74.125.137.132|:443... connected.\n",
            "HTTP request sent, awaiting response... 200 OK\n",
            "Length: 127831 (125K) [text/csv]\n",
            "Saving to: ‘/tmp/sentiment.csv’\n",
            "\n",
            "/tmp/sentiment.csv  100%[===================>] 124.83K  --.-KB/s    in 0.08s   \n",
            "\n",
            "2021-03-27 17:07:27 (1.55 MB/s) - ‘/tmp/sentiment.csv’ saved [127831/127831]\n",
            "\n"
          ],
          "name": "stdout"
        }
      ]
    },
    {
      "cell_type": "code",
      "metadata": {
        "colab": {
          "base_uri": "https://localhost:8080/",
          "height": 359
        },
        "id": "DmXmBaqjXp3w",
        "outputId": "f832dc81-cb72-4060-f94a-feaa00d7b73b"
      },
      "source": [
        "dataset = pd.read_csv('/tmp/sentiment.csv')\n",
        "dataset.head(10)"
      ],
      "execution_count": 3,
      "outputs": [
        {
          "output_type": "execute_result",
          "data": {
            "text/html": [
              "<div>\n",
              "<style scoped>\n",
              "    .dataframe tbody tr th:only-of-type {\n",
              "        vertical-align: middle;\n",
              "    }\n",
              "\n",
              "    .dataframe tbody tr th {\n",
              "        vertical-align: top;\n",
              "    }\n",
              "\n",
              "    .dataframe thead th {\n",
              "        text-align: right;\n",
              "    }\n",
              "</style>\n",
              "<table border=\"1\" class=\"dataframe\">\n",
              "  <thead>\n",
              "    <tr style=\"text-align: right;\">\n",
              "      <th></th>\n",
              "      <th>Unnamed: 0</th>\n",
              "      <th>text</th>\n",
              "      <th>sentiment</th>\n",
              "    </tr>\n",
              "  </thead>\n",
              "  <tbody>\n",
              "    <tr>\n",
              "      <th>0</th>\n",
              "      <td>0</td>\n",
              "      <td>So there is no way for me to plug it in here i...</td>\n",
              "      <td>0</td>\n",
              "    </tr>\n",
              "    <tr>\n",
              "      <th>1</th>\n",
              "      <td>1</td>\n",
              "      <td>Good case Excellent value.</td>\n",
              "      <td>1</td>\n",
              "    </tr>\n",
              "    <tr>\n",
              "      <th>2</th>\n",
              "      <td>2</td>\n",
              "      <td>Great for the jawbone.</td>\n",
              "      <td>1</td>\n",
              "    </tr>\n",
              "    <tr>\n",
              "      <th>3</th>\n",
              "      <td>3</td>\n",
              "      <td>Tied to charger for conversations lasting more...</td>\n",
              "      <td>0</td>\n",
              "    </tr>\n",
              "    <tr>\n",
              "      <th>4</th>\n",
              "      <td>4</td>\n",
              "      <td>The mic is great.</td>\n",
              "      <td>1</td>\n",
              "    </tr>\n",
              "    <tr>\n",
              "      <th>5</th>\n",
              "      <td>5</td>\n",
              "      <td>I have to jiggle the plug to get it to line up...</td>\n",
              "      <td>0</td>\n",
              "    </tr>\n",
              "    <tr>\n",
              "      <th>6</th>\n",
              "      <td>6</td>\n",
              "      <td>If you have several dozen or several hundred c...</td>\n",
              "      <td>0</td>\n",
              "    </tr>\n",
              "    <tr>\n",
              "      <th>7</th>\n",
              "      <td>7</td>\n",
              "      <td>If you are Razr owner...you must have this!</td>\n",
              "      <td>1</td>\n",
              "    </tr>\n",
              "    <tr>\n",
              "      <th>8</th>\n",
              "      <td>8</td>\n",
              "      <td>Needless to say I wasted my money.</td>\n",
              "      <td>0</td>\n",
              "    </tr>\n",
              "    <tr>\n",
              "      <th>9</th>\n",
              "      <td>9</td>\n",
              "      <td>What a waste of money and time!.</td>\n",
              "      <td>0</td>\n",
              "    </tr>\n",
              "  </tbody>\n",
              "</table>\n",
              "</div>"
            ],
            "text/plain": [
              "   Unnamed: 0                                               text  sentiment\n",
              "0           0  So there is no way for me to plug it in here i...          0\n",
              "1           1                         Good case Excellent value.          1\n",
              "2           2                             Great for the jawbone.          1\n",
              "3           3  Tied to charger for conversations lasting more...          0\n",
              "4           4                                  The mic is great.          1\n",
              "5           5  I have to jiggle the plug to get it to line up...          0\n",
              "6           6  If you have several dozen or several hundred c...          0\n",
              "7           7        If you are Razr owner...you must have this!          1\n",
              "8           8                 Needless to say I wasted my money.          0\n",
              "9           9                   What a waste of money and time!.          0"
            ]
          },
          "metadata": {
            "tags": []
          },
          "execution_count": 3
        }
      ]
    },
    {
      "cell_type": "code",
      "metadata": {
        "id": "lj02djEWXp6A"
      },
      "source": [
        "sentences = dataset['text'].tolist()\n",
        "labels= dataset['sentiment'].tolist()"
      ],
      "execution_count": 4,
      "outputs": []
    },
    {
      "cell_type": "code",
      "metadata": {
        "colab": {
          "base_uri": "https://localhost:8080/"
        },
        "id": "4xcCCLRhbItm",
        "outputId": "bd816a88-cf18-4993-f6d8-7a6c25ee6053"
      },
      "source": [
        "print(len(labels))"
      ],
      "execution_count": 5,
      "outputs": [
        {
          "output_type": "stream",
          "text": [
            "1992\n"
          ],
          "name": "stdout"
        }
      ]
    },
    {
      "cell_type": "code",
      "metadata": {
        "id": "wkcJMShwXp8e"
      },
      "source": [
        "#Data Preparation\n",
        "size= int(len(labels)*0.8)\n",
        "\n",
        "training_sentences =sentences[:size]\n",
        "training_labels = labels[:size]\n",
        "\n",
        "test_sentences = sentences[size:]\n",
        "test_labels = labels[size:]\n",
        "\n",
        "#Make labels np array\n",
        "test_labels_array = np.array(test_labels)\n",
        "train_labels_array =np.array(training_labels)\n"
      ],
      "execution_count": 6,
      "outputs": []
    },
    {
      "cell_type": "code",
      "metadata": {
        "id": "W4X7ORFvXp-v"
      },
      "source": [
        "#Hyperparameters\n",
        "vocab_size= 1000\n",
        "embedding_dim = 16\n",
        "max_length = 100\n",
        "trunc_type ='post'\n",
        "padding_type= 'post'\n",
        "oov_tok = \"<OOV>\"\n",
        "\n"
      ],
      "execution_count": 8,
      "outputs": []
    },
    {
      "cell_type": "code",
      "metadata": {
        "id": "2HVys-HEXqAy"
      },
      "source": [
        "tokenizer = Tokenizer(num_words=vocab_size, oov_token=oov_tok)\n",
        "tokenizer.fit_on_texts(training_sentences)\n",
        "word_index = tokenizer.word_index\n",
        "sequences = tokenizer.texts_to_sequences(training_sentences)\n",
        "training_padded= pad_sequences(sequences, maxlen=max_length, truncating=trunc_type, padding=padding_type)\n",
        "\n",
        "testing_sequences = tokenizer.texts_to_sequences(test_sentences)\n",
        "testing_padded= pad_sequences(testing_sequences, maxlen=max_length, truncating=trunc_type, padding=padding_type)\n"
      ],
      "execution_count": 9,
      "outputs": []
    },
    {
      "cell_type": "code",
      "metadata": {
        "colab": {
          "base_uri": "https://localhost:8080/"
        },
        "id": "hK8EXLg_eEyG",
        "outputId": "cedcfaf3-00c7-4c23-aa3f-3205941547fb"
      },
      "source": [
        "#Review a Sequence\n",
        "reverse_word_index =dict([(value,key) for (key,value) in word_index.items()])\n",
        "\n",
        "def decode_review(text):\n",
        "  return ' '.join([reverse_word_index.get(i,'.') for i in text])\n",
        "\n",
        "print(decode_review(training_padded[1]))\n",
        "print(training_sentences[1])"
      ],
      "execution_count": 10,
      "outputs": [
        {
          "output_type": "stream",
          "text": [
            "good case excellent value . . . . . . . . . . . . . . . . . . . . . . . . . . . . . . . . . . . . . . . . . . . . . . . . . . . . . . . . . . . . . . . . . . . . . . . . . . . . . . . . . . . . . . . . . . . . . . . .\n",
            "Good case Excellent value.\n"
          ],
          "name": "stdout"
        }
      ]
    },
    {
      "cell_type": "code",
      "metadata": {
        "colab": {
          "base_uri": "https://localhost:8080/"
        },
        "id": "hMOJ7NqbeE1O",
        "outputId": "d275f496-1778-4d5f-c5fe-3afc348d99ac"
      },
      "source": [
        "#Building a model\n",
        "\n",
        "model= tf.keras.Sequential([\n",
        "                            tf.keras.layers.Embedding(vocab_size, embedding_dim, input_length=max_length),\n",
        "                            tf.keras.layers.Dropout(0.4),\n",
        "                            tf.keras.layers.Conv1D(filters=32, kernel_size=2, padding='same', activation='relu'),\n",
        "                            tf.keras.layers.Dropout(0.2),\n",
        "                            tf.keras.layers.Conv1D(filters=16, kernel_size=2, padding='same', activation='relu'),\n",
        "                            tf.keras.layers.Flatten(),\n",
        "                            tf.keras.layers.Dense(6,activation='relu'),\n",
        "                            tf.keras.layers.Dense(1, activation='sigmoid')\n",
        "\n",
        "])\n",
        "\n",
        "model.compile(loss='binary_crossentropy', optimizer= 'adam', metrics=['accuracy'])\n",
        "\n",
        "model.summary()\n"
      ],
      "execution_count": 16,
      "outputs": [
        {
          "output_type": "stream",
          "text": [
            "Model: \"sequential_1\"\n",
            "_________________________________________________________________\n",
            "Layer (type)                 Output Shape              Param #   \n",
            "=================================================================\n",
            "embedding_2 (Embedding)      (None, 100, 16)           16000     \n",
            "_________________________________________________________________\n",
            "dropout_1 (Dropout)          (None, 100, 16)           0         \n",
            "_________________________________________________________________\n",
            "conv1d (Conv1D)              (None, 100, 32)           1056      \n",
            "_________________________________________________________________\n",
            "dropout_2 (Dropout)          (None, 100, 32)           0         \n",
            "_________________________________________________________________\n",
            "conv1d_1 (Conv1D)            (None, 100, 16)           1040      \n",
            "_________________________________________________________________\n",
            "flatten_1 (Flatten)          (None, 1600)              0         \n",
            "_________________________________________________________________\n",
            "dense_2 (Dense)              (None, 6)                 9606      \n",
            "_________________________________________________________________\n",
            "dense_3 (Dense)              (None, 1)                 7         \n",
            "=================================================================\n",
            "Total params: 27,709\n",
            "Trainable params: 27,709\n",
            "Non-trainable params: 0\n",
            "_________________________________________________________________\n"
          ],
          "name": "stdout"
        }
      ]
    },
    {
      "cell_type": "code",
      "metadata": {
        "colab": {
          "base_uri": "https://localhost:8080/"
        },
        "id": "J88m7j60eE2w",
        "outputId": "c488f727-7938-415b-a1b4-46a954799af8"
      },
      "source": [
        "num_epohs =20\n",
        "\n",
        "model.fit(training_padded,train_labels_array, epochs=num_epohs, validation_data=(testing_padded, test_labels_array) )"
      ],
      "execution_count": 17,
      "outputs": [
        {
          "output_type": "stream",
          "text": [
            "Epoch 1/20\n",
            "50/50 [==============================] - 1s 15ms/step - loss: 0.6936 - accuracy: 0.5093 - val_loss: 0.6963 - val_accuracy: 0.4110\n",
            "Epoch 2/20\n",
            "50/50 [==============================] - 1s 11ms/step - loss: 0.6910 - accuracy: 0.5379 - val_loss: 0.6951 - val_accuracy: 0.4110\n",
            "Epoch 3/20\n",
            "50/50 [==============================] - 1s 11ms/step - loss: 0.6865 - accuracy: 0.5287 - val_loss: 0.6952 - val_accuracy: 0.4110\n",
            "Epoch 4/20\n",
            "50/50 [==============================] - 1s 11ms/step - loss: 0.6420 - accuracy: 0.5566 - val_loss: 0.6594 - val_accuracy: 0.6266\n",
            "Epoch 5/20\n",
            "50/50 [==============================] - 1s 11ms/step - loss: 0.5271 - accuracy: 0.7902 - val_loss: 0.6622 - val_accuracy: 0.6767\n",
            "Epoch 6/20\n",
            "50/50 [==============================] - 1s 11ms/step - loss: 0.4705 - accuracy: 0.8317 - val_loss: 0.7141 - val_accuracy: 0.6892\n",
            "Epoch 7/20\n",
            "50/50 [==============================] - 1s 12ms/step - loss: 0.4363 - accuracy: 0.8749 - val_loss: 0.6208 - val_accuracy: 0.7168\n",
            "Epoch 8/20\n",
            "50/50 [==============================] - 1s 12ms/step - loss: 0.4146 - accuracy: 0.8843 - val_loss: 0.6466 - val_accuracy: 0.7218\n",
            "Epoch 9/20\n",
            "50/50 [==============================] - 1s 11ms/step - loss: 0.3708 - accuracy: 0.9048 - val_loss: 0.5745 - val_accuracy: 0.7594\n",
            "Epoch 10/20\n",
            "50/50 [==============================] - 1s 11ms/step - loss: 0.3629 - accuracy: 0.9063 - val_loss: 0.6591 - val_accuracy: 0.7544\n",
            "Epoch 11/20\n",
            "50/50 [==============================] - 1s 11ms/step - loss: 0.3343 - accuracy: 0.9359 - val_loss: 0.6601 - val_accuracy: 0.7669\n",
            "Epoch 12/20\n",
            "50/50 [==============================] - 1s 11ms/step - loss: 0.3207 - accuracy: 0.9278 - val_loss: 0.6123 - val_accuracy: 0.7669\n",
            "Epoch 13/20\n",
            "50/50 [==============================] - 1s 11ms/step - loss: 0.3036 - accuracy: 0.9374 - val_loss: 0.6033 - val_accuracy: 0.7794\n",
            "Epoch 14/20\n",
            "50/50 [==============================] - 1s 12ms/step - loss: 0.2895 - accuracy: 0.9446 - val_loss: 0.6255 - val_accuracy: 0.7769\n",
            "Epoch 15/20\n",
            "50/50 [==============================] - 1s 11ms/step - loss: 0.2769 - accuracy: 0.9550 - val_loss: 0.6422 - val_accuracy: 0.7744\n",
            "Epoch 16/20\n",
            "50/50 [==============================] - 1s 11ms/step - loss: 0.2818 - accuracy: 0.9517 - val_loss: 0.6281 - val_accuracy: 0.7820\n",
            "Epoch 17/20\n",
            "50/50 [==============================] - 1s 12ms/step - loss: 0.2731 - accuracy: 0.9631 - val_loss: 0.7789 - val_accuracy: 0.7444\n",
            "Epoch 18/20\n",
            "50/50 [==============================] - 1s 11ms/step - loss: 0.2549 - accuracy: 0.9523 - val_loss: 0.6774 - val_accuracy: 0.7719\n",
            "Epoch 19/20\n",
            "50/50 [==============================] - 1s 11ms/step - loss: 0.2395 - accuracy: 0.9692 - val_loss: 0.7172 - val_accuracy: 0.7719\n",
            "Epoch 20/20\n",
            "50/50 [==============================] - 1s 11ms/step - loss: 0.2264 - accuracy: 0.9579 - val_loss: 0.6889 - val_accuracy: 0.7744\n"
          ],
          "name": "stdout"
        },
        {
          "output_type": "execute_result",
          "data": {
            "text/plain": [
              "<tensorflow.python.keras.callbacks.History at 0x7f0032a1eb50>"
            ]
          },
          "metadata": {
            "tags": []
          },
          "execution_count": 17
        }
      ]
    },
    {
      "cell_type": "code",
      "metadata": {
        "id": "TSZJZK-1e8YH"
      },
      "source": [
        "#Prdeciting Sentiment analysis\n",
        "fake_reviews= ['I love this phone', 'I hate spaghetti', \n",
        "                'Everything was cold',\n",
        "                'Everything was hot exactly as I wanted', \n",
        "                'Everything was green', \n",
        "                'the host seated us immediately',\n",
        "                'they gave us free chocolate cake', \n",
        "                'not sure about the wilted flowers on the table',\n",
        "                'only works when I stand on tippy toes', \n",
        "                'does not work when I stand on my head']"
      ],
      "execution_count": 18,
      "outputs": []
    },
    {
      "cell_type": "code",
      "metadata": {
        "colab": {
          "base_uri": "https://localhost:8080/"
        },
        "id": "y7SbfSbBe8cV",
        "outputId": "a06781f4-3601-44e1-a637-76a80bfe426d"
      },
      "source": [
        "# Create the sequences\n",
        "padding_type='post'\n",
        "sample_sequences = tokenizer.texts_to_sequences(fake_reviews)\n",
        "fakes_padded = pad_sequences(sample_sequences, padding=padding_type, maxlen=max_length)           \n",
        "\n",
        "classes = model.predict(fakes_padded)\n",
        "\n",
        "# The closer the class is to 1, the more positive the review is deemed to be\n",
        "for x in range(len(fake_reviews)):\n",
        "  print(fake_reviews[x])\n",
        "  if classes[x] < 0.5:\n",
        "    print(classes[x],\":  NEGATIVE REVIEW\" )\n",
        "    print('\\n')\n",
        "  else:\n",
        "    print(classes[x],\":  POSITIVE REVIEW\" )\n",
        "    print('\\n')\n",
        "\n",
        "# Try adding reviews of your own\n",
        "# Add some negative words (such as \"not\") to the good reviews and see what happens\n",
        "# For example:\n",
        "# they gave us free chocolate cake and did not charge us"
      ],
      "execution_count": 19,
      "outputs": [
        {
          "output_type": "stream",
          "text": [
            "I love this phone\n",
            "[0.9999989] :  POSITIVE REVIEW\n",
            "\n",
            "\n",
            "I hate spaghetti\n",
            "[0.3012939] :  NEGATIVE REVIEW\n",
            "\n",
            "\n",
            "Everything was cold\n",
            "[0.3012939] :  NEGATIVE REVIEW\n",
            "\n",
            "\n",
            "Everything was hot exactly as I wanted\n",
            "[0.7748083] :  POSITIVE REVIEW\n",
            "\n",
            "\n",
            "Everything was green\n",
            "[0.3012939] :  NEGATIVE REVIEW\n",
            "\n",
            "\n",
            "the host seated us immediately\n",
            "[0.9997903] :  POSITIVE REVIEW\n",
            "\n",
            "\n",
            "they gave us free chocolate cake\n",
            "[0.99998295] :  POSITIVE REVIEW\n",
            "\n",
            "\n",
            "not sure about the wilted flowers on the table\n",
            "[0.3012939] :  NEGATIVE REVIEW\n",
            "\n",
            "\n",
            "only works when I stand on tippy toes\n",
            "[0.99988896] :  POSITIVE REVIEW\n",
            "\n",
            "\n",
            "does not work when I stand on my head\n",
            "[0.3012939] :  NEGATIVE REVIEW\n",
            "\n",
            "\n"
          ],
          "name": "stdout"
        }
      ]
    },
    {
      "cell_type": "code",
      "metadata": {
        "id": "n9RLTcxre8e1"
      },
      "source": [
        ""
      ],
      "execution_count": null,
      "outputs": []
    },
    {
      "cell_type": "code",
      "metadata": {
        "id": "-Rtci27eeE91"
      },
      "source": [
        ""
      ],
      "execution_count": null,
      "outputs": []
    },
    {
      "cell_type": "code",
      "metadata": {
        "id": "xuD5-2WGeFAQ"
      },
      "source": [
        ""
      ],
      "execution_count": null,
      "outputs": []
    },
    {
      "cell_type": "code",
      "metadata": {
        "id": "lzIZIS9bXqDY"
      },
      "source": [
        ""
      ],
      "execution_count": null,
      "outputs": []
    }
  ]
}